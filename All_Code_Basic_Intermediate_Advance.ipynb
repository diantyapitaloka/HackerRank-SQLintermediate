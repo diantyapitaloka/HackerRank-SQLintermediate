{
  "nbformat": 4,
  "nbformat_minor": 0,
  "metadata": {
    "colab": {
      "provenance": []
    },
    "kernelspec": {
      "name": "python3",
      "display_name": "Python 3"
    },
    "language_info": {
      "name": "python"
    }
  },
  "cells": [
    {
      "cell_type": "code",
      "execution_count": null,
      "metadata": {
        "id": "2BShY2p0VVph"
      },
      "outputs": [],
      "source": [
        "## BASIC\n",
        "-one\n",
        "SELECT roll_number,name\n",
        "FROM student_information a\n",
        "INNER JOIN faculty_information b\n",
        "ON a.advisor = b.employee_ID\n",
        "WHERE (b.gender = 'M' and b.salary>15000) or (b.gender = 'F' and b.salary>20000);\n",
        "\n",
        "-two\n",
        "SELECT a.stock_code\n",
        "FROM price_today a\n",
        "INNER JOIN price_tomorrow b\n",
        "ON a.stock_code = b.stock_code\n",
        "WHERE b.price>a.price\n",
        "ORDER BY stock_code asc;"
      ]
    },
    {
      "cell_type": "code",
      "source": [
        "## INTERMEDIATE\n",
        "-one\n",
        "SELECT t1.city_name\n",
        "     , t5.product_name\n",
        "     , ROUND(SUM(t4.line_total_price), 2)\n",
        "\n",
        "FROM city t1\n",
        "         JOIN customer t2 ON t1.id = t2.city_id\n",
        "         JOIN invoice t3 ON t2.id = t3.customer_id\n",
        "         JOIN invoice_item t4 ON t3.id = t4.invoice_id\n",
        "         JOIN product t5 ON t4.product_id = t5.id\n",
        "GROUP BY t1.city_name, t5.product_name\n",
        "ORDER BY SUM(t4.line_total_price), t1.city_name, t5.product_name ASC\n",
        "\n",
        "-two\n",
        "SELECT p.sku          as SKU,\n",
        "       p.product_name as ProductName\n",
        "\n",
        "FROM PRODUCT as p\n",
        "WHERE 1 = 1\n",
        "  AND p.id NOT IN\n",
        "      (SELECT i.product_id\n",
        "       FROM INVOICE_ITEM i)\n",
        "ORDER BY p.sku ASC"
      ],
      "metadata": {
        "id": "6MycFmj5VrKb"
      },
      "execution_count": null,
      "outputs": []
    },
    {
      "cell_type": "code",
      "source": [
        "## ADVANCE\n",
        "-one\n",
        "SELECT MONTH(record_date),\n",
        "MAX(data_value) AS max,\n",
        "MIN(data_value) AS min,\n",
        "round(AVG(CASE WHEN data_type = 'avg' then data_value END)) AS avg\n",
        "\n",
        "FROM temperature_records\n",
        "WHERE MONTH(record_date) BETWEEN 7 AND 12\n",
        "GROUP BY MONTH(record_date)\n",
        "ORDER BY MONTH(record_date);\n",
        "\n",
        "-two\n",
        "SELECT\n",
        "  emp_id,\n",
        "  SUM(\n",
        "    TIMESTAMPDIFF(HOUR,\n",
        "      CASE WHEN DATE_ADD(log_out_time, INTERVAL -1 HOUR) > log_in_time\n",
        "        THEN log_in_time\n",
        "        ELSE DATE_ADD(log_out_time, INTERVAL -1 HOUR)\n",
        "      END,\n",
        "      log_out_time\n",
        "    )\n",
        "  ) AS weekend_hours\n",
        "FROM (\n",
        "  SELECT\n",
        "    emp_id,\n",
        "    MIN(timestamp) as log_in_time,\n",
        "    MAX(timestamp) as log_out_time\n",
        "  FROM attendance\n",
        "  WHERE WEEKDAY(timestamp) IN (5, 6) -- 5 & 6 are for Saturday and Sunday.\n",
        "  GROUP BY DATE(timestamp), emp_id\n",
        ") as T\n",
        "GROUP BY emp_id\n",
        "ORDER BY weekend_hours DESC;\n"
      ],
      "metadata": {
        "id": "jsB6sPE2Vr61"
      },
      "execution_count": null,
      "outputs": []
    }
  ]
}